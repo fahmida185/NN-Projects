{
  "nbformat": 4,
  "nbformat_minor": 0,
  "metadata": {
    "kernelspec": {
      "display_name": "Python 3",
      "language": "python",
      "name": "python3"
    },
    "language_info": {
      "codemirror_mode": {
        "name": "ipython",
        "version": 3
      },
      "file_extension": ".py",
      "mimetype": "text/x-python",
      "name": "python",
      "nbconvert_exporter": "python",
      "pygments_lexer": "ipython3",
      "version": "3.7.4"
    },
    "colab": {
      "name": "Assignment_2_flower_nn.ipynb",
      "provenance": [],
      "collapsed_sections": [],
      "include_colab_link": true
    }
  },
  "cells": [
    {
      "cell_type": "markdown",
      "metadata": {
        "id": "view-in-github",
        "colab_type": "text"
      },
      "source": [
        "<a href=\"https://colab.research.google.com/github/fahmida185/NN-Projects/blob/master/Assignment_2_flower_nn.ipynb\" target=\"_parent\"><img src=\"https://colab.research.google.com/assets/colab-badge.svg\" alt=\"Open In Colab\"/></a>"
      ]
    },
    {
      "cell_type": "markdown",
      "metadata": {
        "id": "8D9IRgBTKiBt",
        "colab_type": "text"
      },
      "source": [
        ""
      ]
    },
    {
      "cell_type": "markdown",
      "metadata": {
        "id": "g8rgklg62yFC",
        "colab_type": "text"
      },
      "source": [
        ""
      ]
    },
    {
      "cell_type": "code",
      "metadata": {
        "id": "z2PQ5zlSKiBv",
        "colab_type": "code",
        "colab": {
          "base_uri": "https://localhost:8080/",
          "height": 34
        },
        "outputId": "de406fac-fe89-4a00-8aec-f6e4549e5989"
      },
      "source": [
        "#######################################################################\n",
        "import keras.models as km\n",
        "import keras.layers as kl\n",
        "import numpy as np\n",
        "from sklearn.model_selection import train_test_split\n",
        "from sklearn.metrics import classification_report\n",
        "from sklearn import datasets\n",
        "import keras.utils as ku\n",
        "import tensorflow as tf\n",
        "import keras.regularizers as kr\n",
        "import keras.optimizers as op"
      ],
      "execution_count": null,
      "outputs": [
        {
          "output_type": "stream",
          "text": [
            "Using TensorFlow backend.\n"
          ],
          "name": "stderr"
        }
      ]
    },
    {
      "cell_type": "code",
      "metadata": {
        "id": "wAAD8lSK51zq",
        "colab_type": "code",
        "colab": {}
      },
      "source": [
        "from google.colab import drive\n",
        "drive.mount('/content/drive')"
      ],
      "execution_count": null,
      "outputs": []
    },
    {
      "cell_type": "code",
      "metadata": {
        "id": "hFzeU1N9KiB3",
        "colab_type": "code",
        "colab": {
          "base_uri": "https://localhost:8080/",
          "height": 67
        },
        "outputId": "864c0f91-3067-4034-fc75-359bbad6378e"
      },
      "source": [
        "print(\"Using Tensorflow backend.\")\n",
        "IMG_SIZE=50\n",
        "input_shape = (IMG_SIZE,IMG_SIZE,1)\n",
        "numfm=32\n",
        "numnodes=100\n",
        "output_size=17\n",
        "print(\"Reading flowers input file.\")\n",
        "print(\"Reading flowers target file.\")\n",
        "input_data_unprocessed= np.load('/content/drive/My Drive/NN_Course/Flower_data/50x50flowers.images.npy')\n",
        "input_data_processed=[]\n",
        "target_data= np.load('/content/drive/My Drive/NN_Course/Flower_data/50x50flowers.targets.npy')\n",
        "\n",
        "for i in range(input_data_unprocessed.shape[0]):\n",
        "    grayscale = np.dot(input_data_unprocessed[i], [0.2989, 0.5870, 0.1140])\n",
        "    input_data_processed.append(grayscale)\n",
        "input_data_processed=np.array(input_data_processed)  \n",
        "input_data=input_data_processed\n",
        "target_data=ku.to_categorical(np.asarray(target_data)-1)\n",
        "input_data = input_data.reshape(input_data.shape[0],50,50,1)"
      ],
      "execution_count": null,
      "outputs": [
        {
          "output_type": "stream",
          "text": [
            "Using Tensorflow backend.\n",
            "Reading flowers input file.\n",
            "Reading flowers target file.\n"
          ],
          "name": "stdout"
        }
      ]
    },
    {
      "cell_type": "code",
      "metadata": {
        "id": "GIZDQlGS5VJs",
        "colab_type": "code",
        "colab": {}
      },
      "source": [
        "(trainX, testX, trainY, testY) = train_test_split(input_data, target_data, test_size=0.40)\n",
        "trainX = trainX.astype('float32')\n",
        "testX = testX.astype('float32')\n",
        "trainX = trainX / 255.\n",
        "testX = testX / 255."
      ],
      "execution_count": null,
      "outputs": []
    },
    {
      "cell_type": "code",
      "metadata": {
        "id": "y3SJ3h7P6ETI",
        "colab_type": "code",
        "colab": {
          "base_uri": "https://localhost:8080/",
          "height": 1000
        },
        "outputId": "b87d90ae-8d18-4aa7-eef7-ec9abac2342c"
      },
      "source": [
        "import keras.models as km\n",
        "import keras.layers as kl\n",
        "lam=0.01\n",
        "\n",
        "print(\"Building network.\")\n",
        "input_image = kl.Input(shape = (50,50,1))\n",
        "x = kl.Conv2D(32, kernel_size = (5, 5),activation = 'relu')(input_image)\n",
        "x = kl.Dense(output_size, activation = 'sigmoid')(x)\n",
        "x = kl.MaxPooling2D(pool_size=(2, 2))(x)\n",
        "x= kl.BatchNormalization()(x)\n",
        "x= kl.Dropout(0.25)(x, training = True)\n",
        "\n",
        "\n",
        "x = kl.Conv2D(64, (3, 3),activation='relu')(x)\n",
        "x = kl.MaxPooling2D(pool_size=(2, 2))(x)\n",
        "x = kl.BatchNormalization()(x)\n",
        "x = kl.Dropout(0.25)(x, training = True)\n",
        "\n",
        "x = kl.Dropout(0.25)(x , training = True)\n",
        "x = kl.Flatten()(x)\n",
        "x = kl.BatchNormalization()(x)\n",
        "x = kl.Dense(256, activation='relu')(x)\n",
        "x = kl.BatchNormalization()(x)\n",
        "x = kl.Dropout(0.5)(x, training = True)\n",
        "x = kl.Dense(17, name = 'output',activation = 'softmax',kernel_regularizer = kr.l2(lam))(x)\n",
        "\n",
        "\n",
        "model = km.Model(inputs = input_image,outputs = x)   \n",
        "\n",
        "\n",
        "model.compile( optimizer=op.rmsprop(lr=0.01, decay=1e-6), metrics = ['accuracy'], loss = \"categorical_crossentropy\")\n",
        "print(\"Training network.\") \n",
        "\n",
        "\n",
        "\n",
        "fit = model.fit(trainX,trainY, epochs = 10, batch_size = 5, verbose = 2, validation_data=(testX,testY), shuffle=True)\n",
        "\n",
        "print(model.summary())\n"
      ],
      "execution_count": null,
      "outputs": [
        {
          "output_type": "stream",
          "text": [
            "Building network.\n",
            "Training network.\n",
            "Train on 816 samples, validate on 544 samples\n",
            "Epoch 1/10\n",
            " - 8s - loss: 4.1917 - accuracy: 0.0956 - val_loss: 4.5381 - val_accuracy: 0.0404\n",
            "Epoch 2/10\n",
            " - 8s - loss: 3.2920 - accuracy: 0.1336 - val_loss: 3.5260 - val_accuracy: 0.0938\n",
            "Epoch 3/10\n",
            " - 8s - loss: 3.0687 - accuracy: 0.1912 - val_loss: 4.1391 - val_accuracy: 0.1360\n",
            "Epoch 4/10\n",
            " - 8s - loss: 3.0582 - accuracy: 0.2157 - val_loss: 4.6285 - val_accuracy: 0.1324\n",
            "Epoch 5/10\n",
            " - 8s - loss: 3.0061 - accuracy: 0.2230 - val_loss: 5.5683 - val_accuracy: 0.1140\n",
            "Epoch 6/10\n",
            " - 8s - loss: 2.8344 - accuracy: 0.2574 - val_loss: 3.6165 - val_accuracy: 0.1820\n",
            "Epoch 7/10\n",
            " - 8s - loss: 2.7215 - accuracy: 0.2635 - val_loss: 4.1543 - val_accuracy: 0.1066\n",
            "Epoch 8/10\n",
            " - 8s - loss: 2.7049 - accuracy: 0.2512 - val_loss: 4.1135 - val_accuracy: 0.1415\n",
            "Epoch 9/10\n",
            " - 8s - loss: 2.5621 - accuracy: 0.2868 - val_loss: 3.6868 - val_accuracy: 0.1618\n",
            "Epoch 10/10\n",
            " - 8s - loss: 2.4363 - accuracy: 0.3174 - val_loss: 3.1637 - val_accuracy: 0.2243\n",
            "Model: \"model_8\"\n",
            "_________________________________________________________________\n",
            "Layer (type)                 Output Shape              Param #   \n",
            "=================================================================\n",
            "input_9 (InputLayer)         (None, 50, 50, 1)         0         \n",
            "_________________________________________________________________\n",
            "conv2d_16 (Conv2D)           (None, 46, 46, 32)        832       \n",
            "_________________________________________________________________\n",
            "dense_15 (Dense)             (None, 46, 46, 17)        561       \n",
            "_________________________________________________________________\n",
            "max_pooling2d_16 (MaxPooling (None, 23, 23, 17)        0         \n",
            "_________________________________________________________________\n",
            "batch_normalization_30 (Batc (None, 23, 23, 17)        68        \n",
            "_________________________________________________________________\n",
            "dropout_30 (Dropout)         (None, 23, 23, 17)        0         \n",
            "_________________________________________________________________\n",
            "conv2d_17 (Conv2D)           (None, 21, 21, 64)        9856      \n",
            "_________________________________________________________________\n",
            "max_pooling2d_17 (MaxPooling (None, 10, 10, 64)        0         \n",
            "_________________________________________________________________\n",
            "batch_normalization_31 (Batc (None, 10, 10, 64)        256       \n",
            "_________________________________________________________________\n",
            "dropout_31 (Dropout)         (None, 10, 10, 64)        0         \n",
            "_________________________________________________________________\n",
            "dropout_32 (Dropout)         (None, 10, 10, 64)        0         \n",
            "_________________________________________________________________\n",
            "flatten_8 (Flatten)          (None, 6400)              0         \n",
            "_________________________________________________________________\n",
            "batch_normalization_32 (Batc (None, 6400)              25600     \n",
            "_________________________________________________________________\n",
            "dense_16 (Dense)             (None, 256)               1638656   \n",
            "_________________________________________________________________\n",
            "batch_normalization_33 (Batc (None, 256)               1024      \n",
            "_________________________________________________________________\n",
            "dropout_33 (Dropout)         (None, 256)               0         \n",
            "_________________________________________________________________\n",
            "output (Dense)               (None, 17)                4369      \n",
            "=================================================================\n",
            "Total params: 1,681,222\n",
            "Trainable params: 1,667,748\n",
            "Non-trainable params: 13,474\n",
            "_________________________________________________________________\n",
            "None\n"
          ],
          "name": "stdout"
        }
      ]
    },
    {
      "cell_type": "code",
      "metadata": {
        "id": "L--X5UW4G5tQ",
        "colab_type": "code",
        "colab": {
          "base_uri": "https://localhost:8080/",
          "height": 773
        },
        "outputId": "f8dab433-27a4-41be-943b-8e9ecf5b7437"
      },
      "source": [
        "print(model.summary())\n",
        "print(trainX.shape)\n",
        "print(testX.shape)"
      ],
      "execution_count": null,
      "outputs": [
        {
          "output_type": "stream",
          "text": [
            "Model: \"model_8\"\n",
            "_________________________________________________________________\n",
            "Layer (type)                 Output Shape              Param #   \n",
            "=================================================================\n",
            "input_9 (InputLayer)         (None, 50, 50, 1)         0         \n",
            "_________________________________________________________________\n",
            "conv2d_16 (Conv2D)           (None, 46, 46, 32)        832       \n",
            "_________________________________________________________________\n",
            "dense_15 (Dense)             (None, 46, 46, 17)        561       \n",
            "_________________________________________________________________\n",
            "max_pooling2d_16 (MaxPooling (None, 23, 23, 17)        0         \n",
            "_________________________________________________________________\n",
            "batch_normalization_30 (Batc (None, 23, 23, 17)        68        \n",
            "_________________________________________________________________\n",
            "dropout_30 (Dropout)         (None, 23, 23, 17)        0         \n",
            "_________________________________________________________________\n",
            "conv2d_17 (Conv2D)           (None, 21, 21, 64)        9856      \n",
            "_________________________________________________________________\n",
            "max_pooling2d_17 (MaxPooling (None, 10, 10, 64)        0         \n",
            "_________________________________________________________________\n",
            "batch_normalization_31 (Batc (None, 10, 10, 64)        256       \n",
            "_________________________________________________________________\n",
            "dropout_31 (Dropout)         (None, 10, 10, 64)        0         \n",
            "_________________________________________________________________\n",
            "dropout_32 (Dropout)         (None, 10, 10, 64)        0         \n",
            "_________________________________________________________________\n",
            "flatten_8 (Flatten)          (None, 6400)              0         \n",
            "_________________________________________________________________\n",
            "batch_normalization_32 (Batc (None, 6400)              25600     \n",
            "_________________________________________________________________\n",
            "dense_16 (Dense)             (None, 256)               1638656   \n",
            "_________________________________________________________________\n",
            "batch_normalization_33 (Batc (None, 256)               1024      \n",
            "_________________________________________________________________\n",
            "dropout_33 (Dropout)         (None, 256)               0         \n",
            "_________________________________________________________________\n",
            "output (Dense)               (None, 17)                4369      \n",
            "=================================================================\n",
            "Total params: 1,681,222\n",
            "Trainable params: 1,667,748\n",
            "Non-trainable params: 13,474\n",
            "_________________________________________________________________\n",
            "None\n",
            "(816, 50, 50, 1)\n",
            "(544, 50, 50, 1)\n"
          ],
          "name": "stdout"
        }
      ]
    },
    {
      "cell_type": "code",
      "metadata": {
        "id": "8Qa7nS1IKiB8",
        "colab_type": "code",
        "colab": {}
      },
      "source": [
        "real_Y=list(range(1,17))\n",
        "testX = testX[100,:].reshape(1,50,50,1)\n",
        "testY = testY[100,:].reshape(1,17)\n"
      ],
      "execution_count": null,
      "outputs": []
    },
    {
      "cell_type": "code",
      "metadata": {
        "id": "w91LssfKJMem",
        "colab_type": "code",
        "colab": {
          "base_uri": "https://localhost:8080/",
          "height": 312
        },
        "outputId": "09f9e649-b070-4119-b897-ad1d8e231245"
      },
      "source": [
        "import matplotlib.pyplot as plt\n",
        "fig = plt.figure(figsize=(8,8.5))\n",
        "y_label_range=list(range(0,17))\n",
        "y_pred = []\n",
        "colors = [int(i*3% 17) for i in y_label_range]\n",
        "\n",
        "fig, ax = plt.subplots()\n",
        "for i in range(100):\n",
        "  y_pred.append(model.predict(testX))\n",
        "  ax.scatter(y_label_range,y_pred[i].ravel(),s=50.0,c=colors, alpha=0.3, edgecolors='k')\n",
        "ax = plt.xlabel('Flower Category')\n",
        "ax = plt.ylabel('Network Output Value')\n",
        "ax = plt.title('Test:5',fontsize=12,alpha=0.75)\n",
        "plt.show()"
      ],
      "execution_count": null,
      "outputs": [
        {
          "output_type": "display_data",
          "data": {
            "text/plain": [
              "<Figure size 576x612 with 0 Axes>"
            ]
          },
          "metadata": {
            "tags": []
          }
        },
        {
          "output_type": "display_data",
          "data": {
            "image/png": "[encoded data removed]",
            "text/plain": [
              "<Figure size 432x288 with 1 Axes>"
            ]
          },
          "metadata": {
            "tags": [],
            "needs_background": "light"
          }
        }
      ]
    },
    {
      "cell_type": "code",
      "metadata": {
        "id": "F9wJ0Nq0Myzf",
        "colab_type": "code",
        "colab": {}
      },
      "source": [
        ""
      ],
      "execution_count": null,
      "outputs": []
    },
    {
      "cell_type": "code",
      "metadata": {
        "id": "mFPh_Ve_LQz1",
        "colab_type": "code",
        "colab": {}
      },
      "source": [
        ""
      ],
      "execution_count": null,
      "outputs": []
    },
    {
      "cell_type": "code",
      "metadata": {
        "id": "ZWi-soR-KiCF",
        "colab_type": "code",
        "colab": {}
      },
      "source": [
        ""
      ],
      "execution_count": null,
      "outputs": []
    },
    {
      "cell_type": "code",
      "metadata": {
        "id": "s1I2lV9AeZ0K",
        "colab_type": "code",
        "colab": {}
      },
      "source": [
        ""
      ],
      "execution_count": null,
      "outputs": []
    },
    {
      "cell_type": "code",
      "metadata": {
        "id": "zYFWlejjRgnQ",
        "colab_type": "code",
        "colab": {}
      },
      "source": [
        ""
      ],
      "execution_count": null,
      "outputs": []
    },
    {
      "cell_type": "code",
      "metadata": {
        "id": "JVmh_wuXWX_A",
        "colab_type": "code",
        "colab": {}
      },
      "source": [
        ""
      ],
      "execution_count": null,
      "outputs": []
    },
    {
      "cell_type": "code",
      "metadata": {
        "id": "VmUFBXAIKiCj",
        "colab_type": "code",
        "colab": {}
      },
      "source": [
        ""
      ],
      "execution_count": null,
      "outputs": []
    },
    {
      "cell_type": "code",
      "metadata": {
        "id": "KrX88-oCKiCp",
        "colab_type": "code",
        "colab": {}
      },
      "source": [
        ""
      ],
      "execution_count": null,
      "outputs": []
    },
    {
      "cell_type": "code",
      "metadata": {
        "id": "dM-Fam7oKiCv",
        "colab_type": "code",
        "colab": {}
      },
      "source": [
        ""
      ],
      "execution_count": null,
      "outputs": []
    },
    {
      "cell_type": "code",
      "metadata": {
        "id": "hsP4iulSKiC2",
        "colab_type": "code",
        "colab": {}
      },
      "source": [
        ""
      ],
      "execution_count": null,
      "outputs": []
    },
    {
      "cell_type": "code",
      "metadata": {
        "id": "rSmaQTJSKiC7",
        "colab_type": "code",
        "colab": {}
      },
      "source": [
        ""
      ],
      "execution_count": null,
      "outputs": []
    },
    {
      "cell_type": "code",
      "metadata": {
        "id": "gX0F9DFxKiDb",
        "colab_type": "code",
        "colab": {}
      },
      "source": [
        ""
      ],
      "execution_count": null,
      "outputs": []
    },
    {
      "cell_type": "code",
      "metadata": {
        "id": "JGNiz02aKiDh",
        "colab_type": "code",
        "colab": {}
      },
      "source": [
        ""
      ],
      "execution_count": null,
      "outputs": []
    },
    {
      "cell_type": "code",
      "metadata": {
        "id": "zHDotES8KiDn",
        "colab_type": "code",
        "colab": {}
      },
      "source": [
        ""
      ],
      "execution_count": null,
      "outputs": []
    },
    {
      "cell_type": "code",
      "metadata": {
        "id": "Crz0wcKCKiDs",
        "colab_type": "code",
        "colab": {}
      },
      "source": [
        ""
      ],
      "execution_count": null,
      "outputs": []
    },
    {
      "cell_type": "code",
      "metadata": {
        "id": "wYbhlE27KiDw",
        "colab_type": "code",
        "colab": {}
      },
      "source": [
        ""
      ],
      "execution_count": null,
      "outputs": []
    },
    {
      "cell_type": "code",
      "metadata": {
        "id": "8g6o7dFcKiEC",
        "colab_type": "code",
        "colab": {}
      },
      "source": [
        ""
      ],
      "execution_count": null,
      "outputs": []
    },
    {
      "cell_type": "code",
      "metadata": {
        "id": "lxDqtZ25KiEb",
        "colab_type": "code",
        "colab": {}
      },
      "source": [
        ""
      ],
      "execution_count": null,
      "outputs": []
    },
    {
      "cell_type": "code",
      "metadata": {
        "id": "hIhmaVPzKiEg",
        "colab_type": "code",
        "colab": {}
      },
      "source": [
        ""
      ],
      "execution_count": null,
      "outputs": []
    },
    {
      "cell_type": "code",
      "metadata": {
        "id": "PhXI58PnKiEl",
        "colab_type": "code",
        "colab": {}
      },
      "source": [
        ""
      ],
      "execution_count": null,
      "outputs": []
    },
    {
      "cell_type": "code",
      "metadata": {
        "id": "qPt0VufjKiEt",
        "colab_type": "code",
        "colab": {}
      },
      "source": [
        ""
      ],
      "execution_count": null,
      "outputs": []
    },
    {
      "cell_type": "code",
      "metadata": {
        "id": "2grss88zKiEy",
        "colab_type": "code",
        "colab": {}
      },
      "source": [
        ""
      ],
      "execution_count": null,
      "outputs": []
    },
    {
      "cell_type": "code",
      "metadata": {
        "id": "LuWqP4hAKiE3",
        "colab_type": "code",
        "colab": {}
      },
      "source": [
        ""
      ],
      "execution_count": null,
      "outputs": []
    },
    {
      "cell_type": "code",
      "metadata": {
        "id": "mxCQHjaqKiE7",
        "colab_type": "code",
        "colab": {}
      },
      "source": [
        ""
      ],
      "execution_count": null,
      "outputs": []
    },
    {
      "cell_type": "code",
      "metadata": {
        "id": "EkkAIw0kKiFd",
        "colab_type": "code",
        "colab": {}
      },
      "source": [
        ""
      ],
      "execution_count": null,
      "outputs": []
    },
    {
      "cell_type": "code",
      "metadata": {
        "id": "H4ehk8LUKiFg",
        "colab_type": "code",
        "colab": {}
      },
      "source": [
        ""
      ],
      "execution_count": null,
      "outputs": []
    },
    {
      "cell_type": "code",
      "metadata": {
        "id": "UKusRu20KiFl",
        "colab_type": "code",
        "colab": {}
      },
      "source": [
        ""
      ],
      "execution_count": null,
      "outputs": []
    },
    {
      "cell_type": "code",
      "metadata": {
        "id": "b-gHu1cOKiFr",
        "colab_type": "code",
        "colab": {}
      },
      "source": [
        ""
      ],
      "execution_count": null,
      "outputs": []
    },
    {
      "cell_type": "code",
      "metadata": {
        "id": "FhppVzP0KiFw",
        "colab_type": "code",
        "colab": {}
      },
      "source": [
        ""
      ],
      "execution_count": null,
      "outputs": []
    }
  ]
}